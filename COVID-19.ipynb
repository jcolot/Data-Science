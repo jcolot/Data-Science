{
 "cells": [
  {
   "cell_type": "code",
   "execution_count": 2,
   "metadata": {},
   "outputs": [],
   "source": [
    "import pandas as pd\n",
    "import matplotlib.pyplot as plt\n",
    "from scipy import optimize\n",
    "import numpy as np"
   ]
  },
  {
   "cell_type": "code",
   "execution_count": 9,
   "metadata": {},
   "outputs": [],
   "source": [
    "covid_19_cases = pd.read_csv(\"https://raw.githubusercontent.com/CSSEGISandData/COVID-19/master/csse_covid_19_data/csse_covid_19_time_series/time_series_covid19_confirmed_global.csv\")"
   ]
  },
  {
   "cell_type": "code",
   "execution_count": 10,
   "metadata": {},
   "outputs": [
    {
     "data": {
      "text/html": [
       "<div>\n",
       "<style scoped>\n",
       "    .dataframe tbody tr th:only-of-type {\n",
       "        vertical-align: middle;\n",
       "    }\n",
       "\n",
       "    .dataframe tbody tr th {\n",
       "        vertical-align: top;\n",
       "    }\n",
       "\n",
       "    .dataframe thead th {\n",
       "        text-align: right;\n",
       "    }\n",
       "</style>\n",
       "<table border=\"1\" class=\"dataframe\">\n",
       "  <thead>\n",
       "    <tr style=\"text-align: right;\">\n",
       "      <th></th>\n",
       "      <th>0</th>\n",
       "      <th>1</th>\n",
       "      <th>2</th>\n",
       "      <th>3</th>\n",
       "      <th>4</th>\n",
       "      <th>5</th>\n",
       "      <th>6</th>\n",
       "      <th>7</th>\n",
       "      <th>8</th>\n",
       "      <th>9</th>\n",
       "      <th>...</th>\n",
       "      <th>259</th>\n",
       "      <th>260</th>\n",
       "      <th>261</th>\n",
       "      <th>262</th>\n",
       "      <th>263</th>\n",
       "      <th>264</th>\n",
       "      <th>265</th>\n",
       "      <th>266</th>\n",
       "      <th>267</th>\n",
       "      <th>268</th>\n",
       "    </tr>\n",
       "  </thead>\n",
       "  <tbody>\n",
       "    <tr>\n",
       "      <td>Province/State</td>\n",
       "      <td>NaN</td>\n",
       "      <td>NaN</td>\n",
       "      <td>NaN</td>\n",
       "      <td>NaN</td>\n",
       "      <td>NaN</td>\n",
       "      <td>NaN</td>\n",
       "      <td>NaN</td>\n",
       "      <td>NaN</td>\n",
       "      <td>Australian Capital Territory</td>\n",
       "      <td>New South Wales</td>\n",
       "      <td>...</td>\n",
       "      <td>NaN</td>\n",
       "      <td>NaN</td>\n",
       "      <td>NaN</td>\n",
       "      <td>NaN</td>\n",
       "      <td>NaN</td>\n",
       "      <td>NaN</td>\n",
       "      <td>NaN</td>\n",
       "      <td>NaN</td>\n",
       "      <td>NaN</td>\n",
       "      <td>NaN</td>\n",
       "    </tr>\n",
       "    <tr>\n",
       "      <td>Country/Region</td>\n",
       "      <td>Afghanistan</td>\n",
       "      <td>Albania</td>\n",
       "      <td>Algeria</td>\n",
       "      <td>Andorra</td>\n",
       "      <td>Angola</td>\n",
       "      <td>Antigua and Barbuda</td>\n",
       "      <td>Argentina</td>\n",
       "      <td>Armenia</td>\n",
       "      <td>Australia</td>\n",
       "      <td>Australia</td>\n",
       "      <td>...</td>\n",
       "      <td>Uruguay</td>\n",
       "      <td>Uzbekistan</td>\n",
       "      <td>Vanuatu</td>\n",
       "      <td>Venezuela</td>\n",
       "      <td>Vietnam</td>\n",
       "      <td>West Bank and Gaza</td>\n",
       "      <td>Western Sahara</td>\n",
       "      <td>Yemen</td>\n",
       "      <td>Zambia</td>\n",
       "      <td>Zimbabwe</td>\n",
       "    </tr>\n",
       "    <tr>\n",
       "      <td>Lat</td>\n",
       "      <td>33.9391</td>\n",
       "      <td>41.1533</td>\n",
       "      <td>28.0339</td>\n",
       "      <td>42.5063</td>\n",
       "      <td>-11.2027</td>\n",
       "      <td>17.0608</td>\n",
       "      <td>-38.4161</td>\n",
       "      <td>40.0691</td>\n",
       "      <td>-35.4735</td>\n",
       "      <td>-33.8688</td>\n",
       "      <td>...</td>\n",
       "      <td>-32.5228</td>\n",
       "      <td>41.3775</td>\n",
       "      <td>-15.3767</td>\n",
       "      <td>6.4238</td>\n",
       "      <td>14.0583</td>\n",
       "      <td>31.9522</td>\n",
       "      <td>24.2155</td>\n",
       "      <td>15.5527</td>\n",
       "      <td>-13.1339</td>\n",
       "      <td>-19.0154</td>\n",
       "    </tr>\n",
       "    <tr>\n",
       "      <td>Long</td>\n",
       "      <td>67.71</td>\n",
       "      <td>20.1683</td>\n",
       "      <td>1.6596</td>\n",
       "      <td>1.5218</td>\n",
       "      <td>17.8739</td>\n",
       "      <td>-61.7964</td>\n",
       "      <td>-63.6167</td>\n",
       "      <td>45.0382</td>\n",
       "      <td>149.012</td>\n",
       "      <td>151.209</td>\n",
       "      <td>...</td>\n",
       "      <td>-55.7658</td>\n",
       "      <td>64.5853</td>\n",
       "      <td>166.959</td>\n",
       "      <td>-66.5897</td>\n",
       "      <td>108.277</td>\n",
       "      <td>35.2332</td>\n",
       "      <td>-12.8858</td>\n",
       "      <td>48.5164</td>\n",
       "      <td>27.8493</td>\n",
       "      <td>29.1549</td>\n",
       "    </tr>\n",
       "    <tr>\n",
       "      <td>1/22/20</td>\n",
       "      <td>0</td>\n",
       "      <td>0</td>\n",
       "      <td>0</td>\n",
       "      <td>0</td>\n",
       "      <td>0</td>\n",
       "      <td>0</td>\n",
       "      <td>0</td>\n",
       "      <td>0</td>\n",
       "      <td>0</td>\n",
       "      <td>0</td>\n",
       "      <td>...</td>\n",
       "      <td>0</td>\n",
       "      <td>0</td>\n",
       "      <td>0</td>\n",
       "      <td>0</td>\n",
       "      <td>0</td>\n",
       "      <td>0</td>\n",
       "      <td>0</td>\n",
       "      <td>0</td>\n",
       "      <td>0</td>\n",
       "      <td>0</td>\n",
       "    </tr>\n",
       "  </tbody>\n",
       "</table>\n",
       "<p>5 rows × 269 columns</p>\n",
       "</div>"
      ],
      "text/plain": [
       "                        0        1        2        3        4    \\\n",
       "Province/State          NaN      NaN      NaN      NaN      NaN   \n",
       "Country/Region  Afghanistan  Albania  Algeria  Andorra   Angola   \n",
       "Lat                 33.9391  41.1533  28.0339  42.5063 -11.2027   \n",
       "Long                  67.71  20.1683   1.6596   1.5218  17.8739   \n",
       "1/22/20                   0        0        0        0        0   \n",
       "\n",
       "                                5          6        7    \\\n",
       "Province/State                  NaN        NaN      NaN   \n",
       "Country/Region  Antigua and Barbuda  Argentina  Armenia   \n",
       "Lat                         17.0608   -38.4161  40.0691   \n",
       "Long                       -61.7964   -63.6167  45.0382   \n",
       "1/22/20                           0          0        0   \n",
       "\n",
       "                                         8                9    ...      259  \\\n",
       "Province/State  Australian Capital Territory  New South Wales  ...      NaN   \n",
       "Country/Region                     Australia        Australia  ...  Uruguay   \n",
       "Lat                                 -35.4735         -33.8688  ... -32.5228   \n",
       "Long                                 149.012          151.209  ... -55.7658   \n",
       "1/22/20                                    0                0  ...        0   \n",
       "\n",
       "                       260      261        262      263                 264  \\\n",
       "Province/State         NaN      NaN        NaN      NaN                 NaN   \n",
       "Country/Region  Uzbekistan  Vanuatu  Venezuela  Vietnam  West Bank and Gaza   \n",
       "Lat                41.3775 -15.3767     6.4238  14.0583             31.9522   \n",
       "Long               64.5853  166.959   -66.5897  108.277             35.2332   \n",
       "1/22/20                  0        0          0        0                   0   \n",
       "\n",
       "                           265      266      267       268  \n",
       "Province/State             NaN      NaN      NaN       NaN  \n",
       "Country/Region  Western Sahara    Yemen   Zambia  Zimbabwe  \n",
       "Lat                    24.2155  15.5527 -13.1339  -19.0154  \n",
       "Long                  -12.8858  48.5164  27.8493   29.1549  \n",
       "1/22/20                      0        0        0         0  \n",
       "\n",
       "[5 rows x 269 columns]"
      ]
     },
     "execution_count": 10,
     "metadata": {},
     "output_type": "execute_result"
    }
   ],
   "source": [
    "covid_19_cases = covid_19_cases.T\n",
    "covid_19_cases.head()"
   ]
  },
  {
   "cell_type": "code",
   "execution_count": 11,
   "metadata": {},
   "outputs": [],
   "source": [
    "covid_19_cases\n",
    "new_header = covid_19_cases.iloc[0]"
   ]
  },
  {
   "cell_type": "code",
   "execution_count": 12,
   "metadata": {},
   "outputs": [
    {
     "data": {
      "text/plain": [
       "0      NaN\n",
       "1      NaN\n",
       "2      NaN\n",
       "3      NaN\n",
       "4      NaN\n",
       "      ... \n",
       "264    NaN\n",
       "265    NaN\n",
       "266    NaN\n",
       "267    NaN\n",
       "268    NaN\n",
       "Name: Province/State, Length: 269, dtype: object"
      ]
     },
     "execution_count": 12,
     "metadata": {},
     "output_type": "execute_result"
    }
   ],
   "source": [
    "covid_19_cases.iloc[0]"
   ]
  },
  {
   "cell_type": "code",
   "execution_count": 13,
   "metadata": {},
   "outputs": [],
   "source": [
    "for i, cell in enumerate(covid_19_cases.iloc[0]):\n",
    "    covid_19_cases.iloc[0][i] = str(str(covid_19_cases.iloc[0][i]) + \", \").replace(\"nan, \", \"\") + str(covid_19_cases.iloc[1][i])"
   ]
  },
  {
   "cell_type": "code",
   "execution_count": 14,
   "metadata": {},
   "outputs": [
    {
     "data": {
      "text/plain": [
       "'Afghanistan'"
      ]
     },
     "execution_count": 14,
     "metadata": {},
     "output_type": "execute_result"
    }
   ],
   "source": [
    "covid_19_cases.iloc[0][0]"
   ]
  },
  {
   "cell_type": "code",
   "execution_count": 15,
   "metadata": {},
   "outputs": [],
   "source": [
    "covid_19_cases.columns = new_header\n",
    "covid_19_cases = covid_19_cases.drop(['Country/Region','Lat','Long', 'Province/State'])"
   ]
  },
  {
   "cell_type": "code",
   "execution_count": 16,
   "metadata": {},
   "outputs": [],
   "source": [
    "covid_19_cases.rename(columns={'Province/State': 'Date'}, inplace=True)"
   ]
  },
  {
   "cell_type": "code",
   "execution_count": 17,
   "metadata": {},
   "outputs": [],
   "source": [
    "covid_19_cases.index = pd.to_datetime(covid_19_cases.index)"
   ]
  },
  {
   "cell_type": "code",
   "execution_count": 18,
   "metadata": {},
   "outputs": [
    {
     "data": {
      "text/html": [
       "<div>\n",
       "<style scoped>\n",
       "    .dataframe tbody tr th:only-of-type {\n",
       "        vertical-align: middle;\n",
       "    }\n",
       "\n",
       "    .dataframe tbody tr th {\n",
       "        vertical-align: top;\n",
       "    }\n",
       "\n",
       "    .dataframe thead th {\n",
       "        text-align: right;\n",
       "    }\n",
       "</style>\n",
       "<table border=\"1\" class=\"dataframe\">\n",
       "  <thead>\n",
       "    <tr style=\"text-align: right;\">\n",
       "      <th>Province/State</th>\n",
       "      <th>Afghanistan</th>\n",
       "      <th>Albania</th>\n",
       "      <th>Algeria</th>\n",
       "      <th>Andorra</th>\n",
       "      <th>Angola</th>\n",
       "      <th>Antigua and Barbuda</th>\n",
       "      <th>Argentina</th>\n",
       "      <th>Armenia</th>\n",
       "      <th>Australian Capital Territory, Australia</th>\n",
       "      <th>New South Wales, Australia</th>\n",
       "      <th>...</th>\n",
       "      <th>Uruguay</th>\n",
       "      <th>Uzbekistan</th>\n",
       "      <th>Vanuatu</th>\n",
       "      <th>Venezuela</th>\n",
       "      <th>Vietnam</th>\n",
       "      <th>West Bank and Gaza</th>\n",
       "      <th>Western Sahara</th>\n",
       "      <th>Yemen</th>\n",
       "      <th>Zambia</th>\n",
       "      <th>Zimbabwe</th>\n",
       "    </tr>\n",
       "  </thead>\n",
       "  <tbody>\n",
       "    <tr>\n",
       "      <td>2020-01-22</td>\n",
       "      <td>0</td>\n",
       "      <td>0</td>\n",
       "      <td>0</td>\n",
       "      <td>0</td>\n",
       "      <td>0</td>\n",
       "      <td>0</td>\n",
       "      <td>0</td>\n",
       "      <td>0</td>\n",
       "      <td>0</td>\n",
       "      <td>0</td>\n",
       "      <td>...</td>\n",
       "      <td>0</td>\n",
       "      <td>0</td>\n",
       "      <td>0</td>\n",
       "      <td>0</td>\n",
       "      <td>0</td>\n",
       "      <td>0</td>\n",
       "      <td>0</td>\n",
       "      <td>0</td>\n",
       "      <td>0</td>\n",
       "      <td>0</td>\n",
       "    </tr>\n",
       "    <tr>\n",
       "      <td>2020-01-23</td>\n",
       "      <td>0</td>\n",
       "      <td>0</td>\n",
       "      <td>0</td>\n",
       "      <td>0</td>\n",
       "      <td>0</td>\n",
       "      <td>0</td>\n",
       "      <td>0</td>\n",
       "      <td>0</td>\n",
       "      <td>0</td>\n",
       "      <td>0</td>\n",
       "      <td>...</td>\n",
       "      <td>0</td>\n",
       "      <td>0</td>\n",
       "      <td>0</td>\n",
       "      <td>0</td>\n",
       "      <td>2</td>\n",
       "      <td>0</td>\n",
       "      <td>0</td>\n",
       "      <td>0</td>\n",
       "      <td>0</td>\n",
       "      <td>0</td>\n",
       "    </tr>\n",
       "    <tr>\n",
       "      <td>2020-01-24</td>\n",
       "      <td>0</td>\n",
       "      <td>0</td>\n",
       "      <td>0</td>\n",
       "      <td>0</td>\n",
       "      <td>0</td>\n",
       "      <td>0</td>\n",
       "      <td>0</td>\n",
       "      <td>0</td>\n",
       "      <td>0</td>\n",
       "      <td>0</td>\n",
       "      <td>...</td>\n",
       "      <td>0</td>\n",
       "      <td>0</td>\n",
       "      <td>0</td>\n",
       "      <td>0</td>\n",
       "      <td>2</td>\n",
       "      <td>0</td>\n",
       "      <td>0</td>\n",
       "      <td>0</td>\n",
       "      <td>0</td>\n",
       "      <td>0</td>\n",
       "    </tr>\n",
       "    <tr>\n",
       "      <td>2020-01-25</td>\n",
       "      <td>0</td>\n",
       "      <td>0</td>\n",
       "      <td>0</td>\n",
       "      <td>0</td>\n",
       "      <td>0</td>\n",
       "      <td>0</td>\n",
       "      <td>0</td>\n",
       "      <td>0</td>\n",
       "      <td>0</td>\n",
       "      <td>0</td>\n",
       "      <td>...</td>\n",
       "      <td>0</td>\n",
       "      <td>0</td>\n",
       "      <td>0</td>\n",
       "      <td>0</td>\n",
       "      <td>2</td>\n",
       "      <td>0</td>\n",
       "      <td>0</td>\n",
       "      <td>0</td>\n",
       "      <td>0</td>\n",
       "      <td>0</td>\n",
       "    </tr>\n",
       "    <tr>\n",
       "      <td>2020-01-26</td>\n",
       "      <td>0</td>\n",
       "      <td>0</td>\n",
       "      <td>0</td>\n",
       "      <td>0</td>\n",
       "      <td>0</td>\n",
       "      <td>0</td>\n",
       "      <td>0</td>\n",
       "      <td>0</td>\n",
       "      <td>0</td>\n",
       "      <td>3</td>\n",
       "      <td>...</td>\n",
       "      <td>0</td>\n",
       "      <td>0</td>\n",
       "      <td>0</td>\n",
       "      <td>0</td>\n",
       "      <td>2</td>\n",
       "      <td>0</td>\n",
       "      <td>0</td>\n",
       "      <td>0</td>\n",
       "      <td>0</td>\n",
       "      <td>0</td>\n",
       "    </tr>\n",
       "    <tr>\n",
       "      <td>...</td>\n",
       "      <td>...</td>\n",
       "      <td>...</td>\n",
       "      <td>...</td>\n",
       "      <td>...</td>\n",
       "      <td>...</td>\n",
       "      <td>...</td>\n",
       "      <td>...</td>\n",
       "      <td>...</td>\n",
       "      <td>...</td>\n",
       "      <td>...</td>\n",
       "      <td>...</td>\n",
       "      <td>...</td>\n",
       "      <td>...</td>\n",
       "      <td>...</td>\n",
       "      <td>...</td>\n",
       "      <td>...</td>\n",
       "      <td>...</td>\n",
       "      <td>...</td>\n",
       "      <td>...</td>\n",
       "      <td>...</td>\n",
       "      <td>...</td>\n",
       "    </tr>\n",
       "    <tr>\n",
       "      <td>2020-11-12</td>\n",
       "      <td>42795</td>\n",
       "      <td>26211</td>\n",
       "      <td>65108</td>\n",
       "      <td>5616</td>\n",
       "      <td>13053</td>\n",
       "      <td>131</td>\n",
       "      <td>1284519</td>\n",
       "      <td>112680</td>\n",
       "      <td>114</td>\n",
       "      <td>4469</td>\n",
       "      <td>...</td>\n",
       "      <td>3795</td>\n",
       "      <td>69560</td>\n",
       "      <td>1</td>\n",
       "      <td>96140</td>\n",
       "      <td>1253</td>\n",
       "      <td>60784</td>\n",
       "      <td>10</td>\n",
       "      <td>2071</td>\n",
       "      <td>17056</td>\n",
       "      <td>8696</td>\n",
       "    </tr>\n",
       "    <tr>\n",
       "      <td>2020-11-13</td>\n",
       "      <td>42969</td>\n",
       "      <td>26701</td>\n",
       "      <td>65975</td>\n",
       "      <td>5725</td>\n",
       "      <td>13228</td>\n",
       "      <td>133</td>\n",
       "      <td>1296378</td>\n",
       "      <td>114383</td>\n",
       "      <td>114</td>\n",
       "      <td>4469</td>\n",
       "      <td>...</td>\n",
       "      <td>3883</td>\n",
       "      <td>69754</td>\n",
       "      <td>1</td>\n",
       "      <td>96441</td>\n",
       "      <td>1256</td>\n",
       "      <td>61514</td>\n",
       "      <td>10</td>\n",
       "      <td>2072</td>\n",
       "      <td>17093</td>\n",
       "      <td>8765</td>\n",
       "    </tr>\n",
       "    <tr>\n",
       "      <td>2020-11-14</td>\n",
       "      <td>43035</td>\n",
       "      <td>27233</td>\n",
       "      <td>66819</td>\n",
       "      <td>5725</td>\n",
       "      <td>13374</td>\n",
       "      <td>134</td>\n",
       "      <td>1304846</td>\n",
       "      <td>115855</td>\n",
       "      <td>114</td>\n",
       "      <td>4486</td>\n",
       "      <td>...</td>\n",
       "      <td>3957</td>\n",
       "      <td>69987</td>\n",
       "      <td>1</td>\n",
       "      <td>96933</td>\n",
       "      <td>1265</td>\n",
       "      <td>62167</td>\n",
       "      <td>10</td>\n",
       "      <td>2072</td>\n",
       "      <td>17097</td>\n",
       "      <td>8786</td>\n",
       "    </tr>\n",
       "    <tr>\n",
       "      <td>2020-11-15</td>\n",
       "      <td>43240</td>\n",
       "      <td>27830</td>\n",
       "      <td>67679</td>\n",
       "      <td>5872</td>\n",
       "      <td>13451</td>\n",
       "      <td>134</td>\n",
       "      <td>1310491</td>\n",
       "      <td>117337</td>\n",
       "      <td>114</td>\n",
       "      <td>4498</td>\n",
       "      <td>...</td>\n",
       "      <td>4030</td>\n",
       "      <td>70243</td>\n",
       "      <td>1</td>\n",
       "      <td>97352</td>\n",
       "      <td>1281</td>\n",
       "      <td>63031</td>\n",
       "      <td>10</td>\n",
       "      <td>2072</td>\n",
       "      <td>17123</td>\n",
       "      <td>8829</td>\n",
       "    </tr>\n",
       "    <tr>\n",
       "      <td>2020-11-16</td>\n",
       "      <td>43403</td>\n",
       "      <td>28432</td>\n",
       "      <td>68589</td>\n",
       "      <td>5914</td>\n",
       "      <td>13615</td>\n",
       "      <td>134</td>\n",
       "      <td>1318384</td>\n",
       "      <td>117886</td>\n",
       "      <td>114</td>\n",
       "      <td>4502</td>\n",
       "      <td>...</td>\n",
       "      <td>4104</td>\n",
       "      <td>70381</td>\n",
       "      <td>1</td>\n",
       "      <td>97739</td>\n",
       "      <td>1283</td>\n",
       "      <td>63867</td>\n",
       "      <td>10</td>\n",
       "      <td>2078</td>\n",
       "      <td>17187</td>\n",
       "      <td>8897</td>\n",
       "    </tr>\n",
       "  </tbody>\n",
       "</table>\n",
       "<p>300 rows × 269 columns</p>\n",
       "</div>"
      ],
      "text/plain": [
       "Province/State Afghanistan Albania Algeria Andorra Angola Antigua and Barbuda  \\\n",
       "2020-01-22               0       0       0       0      0                   0   \n",
       "2020-01-23               0       0       0       0      0                   0   \n",
       "2020-01-24               0       0       0       0      0                   0   \n",
       "2020-01-25               0       0       0       0      0                   0   \n",
       "2020-01-26               0       0       0       0      0                   0   \n",
       "...                    ...     ...     ...     ...    ...                 ...   \n",
       "2020-11-12           42795   26211   65108    5616  13053                 131   \n",
       "2020-11-13           42969   26701   65975    5725  13228                 133   \n",
       "2020-11-14           43035   27233   66819    5725  13374                 134   \n",
       "2020-11-15           43240   27830   67679    5872  13451                 134   \n",
       "2020-11-16           43403   28432   68589    5914  13615                 134   \n",
       "\n",
       "Province/State Argentina Armenia Australian Capital Territory, Australia  \\\n",
       "2020-01-22             0       0                                       0   \n",
       "2020-01-23             0       0                                       0   \n",
       "2020-01-24             0       0                                       0   \n",
       "2020-01-25             0       0                                       0   \n",
       "2020-01-26             0       0                                       0   \n",
       "...                  ...     ...                                     ...   \n",
       "2020-11-12       1284519  112680                                     114   \n",
       "2020-11-13       1296378  114383                                     114   \n",
       "2020-11-14       1304846  115855                                     114   \n",
       "2020-11-15       1310491  117337                                     114   \n",
       "2020-11-16       1318384  117886                                     114   \n",
       "\n",
       "Province/State New South Wales, Australia  ... Uruguay Uzbekistan Vanuatu  \\\n",
       "2020-01-22                              0  ...       0          0       0   \n",
       "2020-01-23                              0  ...       0          0       0   \n",
       "2020-01-24                              0  ...       0          0       0   \n",
       "2020-01-25                              0  ...       0          0       0   \n",
       "2020-01-26                              3  ...       0          0       0   \n",
       "...                                   ...  ...     ...        ...     ...   \n",
       "2020-11-12                           4469  ...    3795      69560       1   \n",
       "2020-11-13                           4469  ...    3883      69754       1   \n",
       "2020-11-14                           4486  ...    3957      69987       1   \n",
       "2020-11-15                           4498  ...    4030      70243       1   \n",
       "2020-11-16                           4502  ...    4104      70381       1   \n",
       "\n",
       "Province/State Venezuela Vietnam West Bank and Gaza Western Sahara Yemen  \\\n",
       "2020-01-22             0       0                  0              0     0   \n",
       "2020-01-23             0       2                  0              0     0   \n",
       "2020-01-24             0       2                  0              0     0   \n",
       "2020-01-25             0       2                  0              0     0   \n",
       "2020-01-26             0       2                  0              0     0   \n",
       "...                  ...     ...                ...            ...   ...   \n",
       "2020-11-12         96140    1253              60784             10  2071   \n",
       "2020-11-13         96441    1256              61514             10  2072   \n",
       "2020-11-14         96933    1265              62167             10  2072   \n",
       "2020-11-15         97352    1281              63031             10  2072   \n",
       "2020-11-16         97739    1283              63867             10  2078   \n",
       "\n",
       "Province/State Zambia Zimbabwe  \n",
       "2020-01-22          0        0  \n",
       "2020-01-23          0        0  \n",
       "2020-01-24          0        0  \n",
       "2020-01-25          0        0  \n",
       "2020-01-26          0        0  \n",
       "...               ...      ...  \n",
       "2020-11-12      17056     8696  \n",
       "2020-11-13      17093     8765  \n",
       "2020-11-14      17097     8786  \n",
       "2020-11-15      17123     8829  \n",
       "2020-11-16      17187     8897  \n",
       "\n",
       "[300 rows x 269 columns]"
      ]
     },
     "execution_count": 18,
     "metadata": {},
     "output_type": "execute_result"
    }
   ],
   "source": [
    "covid_19_cases"
   ]
  },
  {
   "cell_type": "code",
   "execution_count": 22,
   "metadata": {},
   "outputs": [
    {
     "data": {
      "text/plain": [
       "<matplotlib.axes._subplots.AxesSubplot at 0x7fb154aa8d90>"
      ]
     },
     "execution_count": 22,
     "metadata": {},
     "output_type": "execute_result"
    },
    {
     "data": {
      "image/png": "[encoded data removed]",
      "text/plain": [
       "<Figure size 432x288 with 1 Axes>"
      ]
     },
     "metadata": {
      "needs_background": "light"
     },
     "output_type": "display_data"
    }
   ],
   "source": [
    "covid_19_cases[[\"Italy\", \"Korea, South\", \"Belgium\", \"Sweden\"]].plot()"
   ]
  },
  {
   "cell_type": "code",
   "execution_count": null,
   "metadata": {},
   "outputs": [],
   "source": [
    "china = [column for column in covid_19_cases.columns if 'China' in column]"
   ]
  },
  {
   "cell_type": "code",
   "execution_count": null,
   "metadata": {},
   "outputs": [],
   "source": [
    "covid_19_cases[china].plot()"
   ]
  },
  {
   "cell_type": "code",
   "execution_count": null,
   "metadata": {},
   "outputs": [],
   "source": [
    "hubei = covid_19_cases[\"Hubei, China\"]"
   ]
  },
  {
   "cell_type": "code",
   "execution_count": null,
   "metadata": {},
   "outputs": [],
   "source": [
    "hubei = np.array(hubei)[0:20].astype(float)"
   ]
  },
  {
   "cell_type": "code",
   "execution_count": null,
   "metadata": {},
   "outputs": [],
   "source": [
    "hubei\n",
    "x = np.arange(0, len(hubei)).astype(float)"
   ]
  },
  {
   "cell_type": "code",
   "execution_count": null,
   "metadata": {},
   "outputs": [],
   "source": [
    "plt.plot(x, hubei)"
   ]
  },
  {
   "cell_type": "code",
   "execution_count": null,
   "metadata": {},
   "outputs": [],
   "source": [
    "np.polyfit(x, hubei, 2)\n",
    "p2 = np.poly1d(np.polyfit(x, hubei, 2))\n",
    "p2"
   ]
  },
  {
   "cell_type": "code",
   "execution_count": null,
   "metadata": {},
   "outputs": [],
   "source": [
    "plt.plot(x, hubei, '.', x, p2(x), '-')"
   ]
  },
  {
   "cell_type": "code",
   "execution_count": null,
   "metadata": {},
   "outputs": [],
   "source": [
    "import scipy.stats as stats"
   ]
  },
  {
   "cell_type": "code",
   "execution_count": null,
   "metadata": {},
   "outputs": [],
   "source": [
    "r, p = stats.pearsonr(hubei, p2(x))\n",
    "r"
   ]
  },
  {
   "cell_type": "code",
   "execution_count": null,
   "metadata": {},
   "outputs": [],
   "source": [
    "italy = covid_19_cases[\"Italy\"]"
   ]
  },
  {
   "cell_type": "code",
   "execution_count": null,
   "metadata": {},
   "outputs": [],
   "source": [
    "italy = np.array(italy)[29:].astype(float)"
   ]
  },
  {
   "cell_type": "code",
   "execution_count": null,
   "metadata": {},
   "outputs": [],
   "source": [
    "italy"
   ]
  },
  {
   "cell_type": "code",
   "execution_count": null,
   "metadata": {},
   "outputs": [],
   "source": [
    "x = np.arange(0, len(italy)).astype(float)"
   ]
  },
  {
   "cell_type": "code",
   "execution_count": null,
   "metadata": {},
   "outputs": [],
   "source": [
    "plt.plot(x, italy)"
   ]
  },
  {
   "cell_type": "code",
   "execution_count": null,
   "metadata": {},
   "outputs": [],
   "source": [
    "np.polyfit(x, italy, 2)\n",
    "p2 = np.poly1d(np.polyfit(x, italy, 2))\n",
    "p2"
   ]
  },
  {
   "cell_type": "code",
   "execution_count": null,
   "metadata": {},
   "outputs": [],
   "source": [
    "plt.plot(x, italy)\n",
    "plt.yscale('log')"
   ]
  },
  {
   "cell_type": "code",
   "execution_count": null,
   "metadata": {},
   "outputs": [],
   "source": [
    "r, p = stats.pearsonr(italy, p2(x))\n",
    "r"
   ]
  },
  {
   "cell_type": "code",
   "execution_count": null,
   "metadata": {},
   "outputs": [],
   "source": [
    "italy = covid_19_cases[\"Italy\"]\n",
    "belgium = covid_19_cases[\"Belgium\"]"
   ]
  },
  {
   "cell_type": "code",
   "execution_count": null,
   "metadata": {},
   "outputs": [],
   "source": [
    "france = covid_19_cases[\"France, France\"]"
   ]
  },
  {
   "cell_type": "code",
   "execution_count": null,
   "metadata": {},
   "outputs": [],
   "source": [
    "france = [day for day in france if day > 100]\n",
    "belgium = [day for day in belgium if day > 100]"
   ]
  },
  {
   "cell_type": "code",
   "execution_count": null,
   "metadata": {},
   "outputs": [],
   "source": [
    "list(italy)"
   ]
  },
  {
   "cell_type": "code",
   "execution_count": null,
   "metadata": {},
   "outputs": [],
   "source": [
    "france = [day for day in france if day > 100]"
   ]
  },
  {
   "cell_type": "code",
   "execution_count": null,
   "metadata": {},
   "outputs": [],
   "source": [
    "france"
   ]
  },
  {
   "cell_type": "code",
   "execution_count": null,
   "metadata": {},
   "outputs": [],
   "source": [
    "plt.plot(france, '-', italy, '.')\n",
    "plt.yscale('log')"
   ]
  }
 ],
 "metadata": {
  "kernelspec": {
   "display_name": "Python 3",
   "language": "python",
   "name": "python3"
  },
  "language_info": {
   "codemirror_mode": {
    "name": "ipython",
    "version": 3
   },
   "file_extension": ".py",
   "mimetype": "text/x-python",
   "name": "python",
   "nbconvert_exporter": "python",
   "pygments_lexer": "ipython3",
   "version": "3.7.4"
  }
 },
 "nbformat": 4,
 "nbformat_minor": 4
}
