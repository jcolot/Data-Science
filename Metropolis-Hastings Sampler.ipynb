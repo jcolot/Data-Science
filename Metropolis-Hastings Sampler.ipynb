{
 "cells": [
  {
   "cell_type": "code",
   "execution_count": 322,
   "metadata": {},
   "outputs": [],
   "source": [
    "import math\n",
    "import statistics\n",
    "from scipy.stats import norm\n",
    "from scipy.stats import uniform\n",
    "import seaborn as sns"
   ]
  },
  {
   "cell_type": "code",
   "execution_count": 323,
   "metadata": {},
   "outputs": [],
   "source": [
    "# We want to sample from a normal distribution\n",
    "# we define a function f proportional to the normal (its kernel)\n",
    "\n",
    "def f(x):\n",
    "    return math.e**(-(x**2)/2)"
   ]
  },
  {
   "cell_type": "code",
   "execution_count": 324,
   "metadata": {},
   "outputs": [],
   "source": [
    "# We initialize the Monte-Carlo Chain with a value of 0\n",
    "x = 0"
   ]
  },
  {
   "cell_type": "code",
   "execution_count": 325,
   "metadata": {},
   "outputs": [],
   "source": [
    "# We sample from a uniform distribution as the proposal distribution \n",
    "\n",
    "proposal = 0\n"
   ]
  },
  {
   "cell_type": "code",
   "execution_count": 326,
   "metadata": {},
   "outputs": [],
   "source": [
    "sample = []\n",
    "\n",
    "while len(sample) < 10000:\n",
    "    u = uniform.rvs()\n",
    "    new_proposal = uniform.rvs(0, 1) - 0.5 - proposal\n",
    "    alpha = f(new_proposal) / f(proposal)\n",
    "\n",
    "    if u <= alpha:\n",
    "        proposal = new_proposal\n",
    "        sample.append(new_proposal)\n",
    "        \n",
    "# discard first 1000 of burnin period\n",
    "sample = sample[1000:]"
   ]
  },
  {
   "cell_type": "code",
   "execution_count": 327,
   "metadata": {},
   "outputs": [
    {
     "data": {
      "text/plain": [
       "<matplotlib.axes._subplots.AxesSubplot at 0x7ff302601ad0>"
      ]
     },
     "execution_count": 327,
     "metadata": {},
     "output_type": "execute_result"
    },
    {
     "data": {
      "image/png": "[encoded data removed]",
      "text/plain": [
       "<Figure size 432x288 with 1 Axes>"
      ]
     },
     "metadata": {
      "needs_background": "light"
     },
     "output_type": "display_data"
    }
   ],
   "source": [
    "sns.distplot(sample)"
   ]
  },
  {
   "cell_type": "code",
   "execution_count": null,
   "metadata": {},
   "outputs": [],
   "source": []
  }
 ],
 "metadata": {
  "kernelspec": {
   "display_name": "Python 3",
   "language": "python",
   "name": "python3"
  },
  "language_info": {
   "codemirror_mode": {
    "name": "ipython",
    "version": 3
   },
   "file_extension": ".py",
   "mimetype": "text/x-python",
   "name": "python",
   "nbconvert_exporter": "python",
   "pygments_lexer": "ipython3",
   "version": "3.7.4"
  }
 },
 "nbformat": 4,
 "nbformat_minor": 2
}
