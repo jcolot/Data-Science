{
 "cells": [
  {
   "cell_type": "code",
   "execution_count": 71,
   "metadata": {},
   "outputs": [],
   "source": [
    "import requests\n",
    "import json\n",
    "import datetime"
   ]
  },
  {
   "cell_type": "code",
   "execution_count": 3,
   "metadata": {},
   "outputs": [],
   "source": [
    "response = requests.get('https://api.openweathermap.org/data/2.5/weather?q=Brussels,be&APPID=16f6cdbd4d0ad8e8d2ff5912fddceaf9')"
   ]
  },
  {
   "cell_type": "code",
   "execution_count": 8,
   "metadata": {},
   "outputs": [],
   "source": [
    "response = json.loads(response.text)"
   ]
  },
  {
   "cell_type": "code",
   "execution_count": 9,
   "metadata": {},
   "outputs": [
    {
     "data": {
      "text/plain": [
       "{'coord': {'lon': 4.3488, 'lat': 50.8504},\n",
       " 'weather': [{'id': 803,\n",
       "   'main': 'Clouds',\n",
       "   'description': 'broken clouds',\n",
       "   'icon': '04n'}],\n",
       " 'base': 'stations',\n",
       " 'main': {'temp': 278.52,\n",
       "  'feels_like': 276.04,\n",
       "  'temp_min': 277.69,\n",
       "  'temp_max': 279.46,\n",
       "  'pressure': 1022,\n",
       "  'humidity': 91},\n",
       " 'visibility': 6000,\n",
       " 'wind': {'speed': 3.09, 'deg': 230},\n",
       " 'clouds': {'all': 75},\n",
       " 'dt': 1637103801,\n",
       " 'sys': {'type': 2,\n",
       "  'id': 2005742,\n",
       "  'country': 'BE',\n",
       "  'sunrise': 1637132512,\n",
       "  'sunset': 1637164415},\n",
       " 'timezone': 3600,\n",
       " 'id': 2800866,\n",
       " 'name': 'Brussels',\n",
       " 'cod': 200}"
      ]
     },
     "execution_count": 9,
     "metadata": {},
     "output_type": "execute_result"
    }
   ],
   "source": [
    "response"
   ]
  },
  {
   "cell_type": "code",
   "execution_count": 94,
   "metadata": {},
   "outputs": [],
   "source": [
    "result = {\n",
    "    'weather_main': response['weather'][0]['main'],\n",
    "    'weather_description': response['weather'][0]['description'],\n",
    "    'temp': round(response['main']['temp'] - 273.15, 2),\n",
    "    'temp_min': round(response['main']['temp_min'] - 273.15, 2),\n",
    "    'temp_max': round(response['main']['temp_max'] - 273.15, 2),\n",
    "    'feels_like': round(response['main']['feels_like'] - 273.15, 2),\n",
    "    'rain_1h': round(response.get('rain', {}).get('h1', 0), 2),\n",
    "    'snow_1h': round(response.get('snow', {}).get('h1', 0), 2),\n",
    "    'datetime_now': datetime.datetime.now().strftime(\"%Y-%m-%d %H:%M:%S\"),\n",
    "    'location': response['name']\n",
    "}"
   ]
  },
  {
   "cell_type": "code",
   "execution_count": 100,
   "metadata": {},
   "outputs": [
    {
     "name": "stdout",
     "output_type": "stream",
     "text": [
      "weather_main,weather_description,temp,temp_min,temp_max,feels_like,rain_1h,snow_1h,datetime_now,location\n"
     ]
    }
   ],
   "source": [
    "for i in list(result.keys())[:-1]:\n",
    "    print(i, end=',')\n",
    "print(list(result.keys())[-1])"
   ]
  },
  {
   "cell_type": "code",
   "execution_count": 101,
   "metadata": {},
   "outputs": [
    {
     "name": "stdout",
     "output_type": "stream",
     "text": [
      "Clouds,few clouds,7.75,6.33,9.27,6.52,0,0,2021-11-17 23:24:17,Brussels\n"
     ]
    }
   ],
   "source": [
    "for i in list(result.values())[:-1]:\n",
    "    print(i, end=',')\n",
    "print(list(result.values())[-1])"
   ]
  },
  {
   "cell_type": "code",
   "execution_count": 24,
   "metadata": {},
   "outputs": [],
   "source": []
  },
  {
   "cell_type": "code",
   "execution_count": null,
   "metadata": {},
   "outputs": [],
   "source": []
  },
  {
   "cell_type": "code",
   "execution_count": 23,
   "metadata": {},
   "outputs": [],
   "source": []
  },
  {
   "cell_type": "code",
   "execution_count": null,
   "metadata": {},
   "outputs": [],
   "source": []
  }
 ],
 "metadata": {
  "kernelspec": {
   "display_name": "Python 3",
   "language": "python",
   "name": "python3"
  },
  "language_info": {
   "codemirror_mode": {
    "name": "ipython",
    "version": 3
   },
   "file_extension": ".py",
   "mimetype": "text/x-python",
   "name": "python",
   "nbconvert_exporter": "python",
   "pygments_lexer": "ipython3",
   "version": "3.7.4"
  }
 },
 "nbformat": 4,
 "nbformat_minor": 2
}
