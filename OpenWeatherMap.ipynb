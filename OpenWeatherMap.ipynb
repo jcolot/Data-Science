{
 "cells": [
  {
   "cell_type": "code",
   "execution_count": 6,
   "metadata": {},
   "outputs": [],
   "source": [
    "import requests\n",
    "import json"
   ]
  },
  {
   "cell_type": "code",
   "execution_count": 28,
   "metadata": {},
   "outputs": [],
   "source": [
    "response = requests.get('https://api.openweathermap.org/data/2.5/weather?q=Brussels,be&APPID=16f6cdbd4d0ad8e8d2ff5912fddceaf9')"
   ]
  },
  {
   "cell_type": "code",
   "execution_count": 29,
   "metadata": {},
   "outputs": [],
   "source": [
    "response = json.loads(response.text)"
   ]
  },
  {
   "cell_type": "code",
   "execution_count": 30,
   "metadata": {},
   "outputs": [
    {
     "data": {
      "text/plain": [
       "{'coord': {'lon': 4.3488, 'lat': 50.8504},\n",
       " 'weather': [{'id': 801,\n",
       "   'main': 'Clouds',\n",
       "   'description': 'few clouds',\n",
       "   'icon': '02n'}],\n",
       " 'base': 'stations',\n",
       " 'main': {'temp': 280.9,\n",
       "  'feels_like': 279.67,\n",
       "  'temp_min': 279.48,\n",
       "  'temp_max': 282.42,\n",
       "  'pressure': 1025,\n",
       "  'humidity': 89},\n",
       " 'visibility': 10000,\n",
       " 'wind': {'speed': 2.06, 'deg': 300},\n",
       " 'clouds': {'all': 20},\n",
       " 'dt': 1637169204,\n",
       " 'sys': {'type': 2,\n",
       "  'id': 2005742,\n",
       "  'country': 'BE',\n",
       "  'sunrise': 1637132512,\n",
       "  'sunset': 1637164415},\n",
       " 'timezone': 3600,\n",
       " 'id': 2800866,\n",
       " 'name': 'Brussels',\n",
       " 'cod': 200}"
      ]
     },
     "execution_count": 30,
     "metadata": {},
     "output_type": "execute_result"
    }
   ],
   "source": [
    "response"
   ]
  },
  {
   "cell_type": "code",
   "execution_count": 69,
   "metadata": {},
   "outputs": [],
   "source": [
    "result = {\n",
    "    'weather_main': response['weather'][0]['main'],\n",
    "    'weather_description': response['weather'][0]['description'],\n",
    "    'temp': round(response['main']['temp'] - 273.15, 2),\n",
    "    'temp_min': round(response['main']['temp_min'] - 273.15, 2),\n",
    "    'temp_max': round(response['main']['temp_max'] - 273.15, 2),\n",
    "    'feels_like': round(response['main']['feels_like'] - 273.15, 2),\n",
    "    'precipitation_1h':  response.get('rain', {}).get('1h', 0)\n",
    "}"
   ]
  },
  {
   "cell_type": "code",
   "execution_count": 70,
   "metadata": {},
   "outputs": [
    {
     "data": {
      "text/plain": [
       "{'weather_main': 'Clouds',\n",
       " 'weather_description': 'few clouds',\n",
       " 'temp': 7.75,\n",
       " 'temp_min': 6.33,\n",
       " 'temp_max': 9.27,\n",
       " 'feels_like': 6.52,\n",
       " 'precipitation_1h': 0}"
      ]
     },
     "execution_count": 70,
     "metadata": {},
     "output_type": "execute_result"
    }
   ],
   "source": [
    "result"
   ]
  },
  {
   "cell_type": "code",
   "execution_count": 66,
   "metadata": {},
   "outputs": [
    {
     "data": {
      "text/plain": [
       "1.44"
      ]
     },
     "execution_count": 66,
     "metadata": {},
     "output_type": "execute_result"
    }
   ],
   "source": [
    "round(1.4444, 2)"
   ]
  },
  {
   "cell_type": "code",
   "execution_count": 24,
   "metadata": {},
   "outputs": [],
   "source": []
  },
  {
   "cell_type": "code",
   "execution_count": null,
   "metadata": {},
   "outputs": [],
   "source": []
  },
  {
   "cell_type": "code",
   "execution_count": 23,
   "metadata": {},
   "outputs": [],
   "source": []
  },
  {
   "cell_type": "code",
   "execution_count": null,
   "metadata": {},
   "outputs": [],
   "source": []
  }
 ],
 "metadata": {
  "kernelspec": {
   "display_name": "Python 3",
   "language": "python",
   "name": "python3"
  },
  "language_info": {
   "codemirror_mode": {
    "name": "ipython",
    "version": 3
   },
   "file_extension": ".py",
   "mimetype": "text/x-python",
   "name": "python",
   "nbconvert_exporter": "python",
   "pygments_lexer": "ipython3",
   "version": "3.7.4"
  }
 },
 "nbformat": 4,
 "nbformat_minor": 2
}
